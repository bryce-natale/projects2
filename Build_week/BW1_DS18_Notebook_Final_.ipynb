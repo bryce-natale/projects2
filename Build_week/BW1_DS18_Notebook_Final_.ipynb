{
  "nbformat": 4,
  "nbformat_minor": 0,
  "metadata": {
    "colab": {
      "name": "BW1-DS18-Notebook-Final-.ipynb",
      "provenance": [],
      "authorship_tag": "ABX9TyNSyIdNlgBS0dtxuevHYmqa",
      "include_colab_link": true
    },
    "kernelspec": {
      "name": "python3",
      "display_name": "Python 3"
    }
  },
  "cells": [
    {
      "cell_type": "markdown",
      "metadata": {
        "id": "view-in-github",
        "colab_type": "text"
      },
      "source": [
        "<a href=\"https://colab.research.google.com/github/bryce-natale/projects2/blob/master/Build_week/BW1_DS18_Notebook_Final_.ipynb\" target=\"_parent\"><img src=\"https://colab.research.google.com/assets/colab-badge.svg\" alt=\"Open In Colab\"/></a>"
      ]
    },
    {
      "cell_type": "code",
      "metadata": {
        "id": "smatILtum7C4",
        "colab_type": "code",
        "colab": {}
      },
      "source": [
        "#links to kaggle CSVs \n",
        "#: https://www.kaggle.com/justinas/startup-investments?select=objects.csv - Objects CSV\n",
        "#: https://www.kaggle.com/justinas/startup-investments?select=acquisitions.csv - Acquisitons CSV#"
      ],
      "execution_count": 2,
      "outputs": []
    },
    {
      "cell_type": "code",
      "metadata": {
        "id": "LhIc9Qx4UsM2",
        "colab_type": "code",
        "colab": {}
      },
      "source": [
        "import pandas as pd \n",
        "import numpy as np \n",
        "import matplotlib.pyplot as plt "
      ],
      "execution_count": 1,
      "outputs": []
    },
    {
      "cell_type": "code",
      "metadata": {
        "id": "9Duuz2YeXyq7",
        "colab_type": "code",
        "colab": {}
      },
      "source": [
        "from google.colab import files\n",
        "uploaded = files.upload()"
      ],
      "execution_count": null,
      "outputs": []
    },
    {
      "cell_type": "code",
      "metadata": {
        "id": "JBXINMEZX9aG",
        "colab_type": "code",
        "colab": {}
      },
      "source": [
        "#importing first data set\n",
        "df_acquired = pd.read_csv('432357_821159_compressed_acquisitions.csv.zip')\n",
        "df_acquired.head()"
      ],
      "execution_count": null,
      "outputs": []
    },
    {
      "cell_type": "code",
      "metadata": {
        "id": "B0_RM6N4YGv6",
        "colab_type": "code",
        "colab": {}
      },
      "source": [
        "#dropping columns that I don't need\n",
        "df_acquired.drop(df_acquired.columns.difference(['acquired_object_id','price_amount','acquired_at']), 1, inplace=True)\n",
        "df_acquired.head()"
      ],
      "execution_count": null,
      "outputs": []
    },
    {
      "cell_type": "code",
      "metadata": {
        "id": "CV5EX_YmigMi",
        "colab_type": "code",
        "colab": {}
      },
      "source": [
        "#renaming one column so that I can merge with another df, Kaggle said the columns correspond but have different names \n",
        "df_acquired.rename(columns={'acquired_object_id':'id'},inplace=True)\n",
        "df_acquired.head()"
      ],
      "execution_count": null,
      "outputs": []
    },
    {
      "cell_type": "code",
      "metadata": {
        "id": "aTZJPADTVE4B",
        "colab_type": "code",
        "colab": {}
      },
      "source": [
        "#importing second df\n",
        "from google.colab import files\n",
        "uploaded = files.upload()"
      ],
      "execution_count": null,
      "outputs": []
    },
    {
      "cell_type": "code",
      "metadata": {
        "id": "UpEDmQcmXgDq",
        "colab_type": "code",
        "colab": {}
      },
      "source": [
        "df_objects = pd.read_csv('432357_821159_compressed_objects.csv (1).zip')\n",
        "df_objects.head()"
      ],
      "execution_count": null,
      "outputs": []
    },
    {
      "cell_type": "code",
      "metadata": {
        "id": "kpNvlc1lXrKV",
        "colab_type": "code",
        "colab": {}
      },
      "source": [
        "#dropping columns that I don't need \n",
        "df_objects.drop(df_objects.columns.difference(['id','founded_at','first_funding_at']), 1, inplace=True)\n",
        "df_objects.head()"
      ],
      "execution_count": null,
      "outputs": []
    },
    {
      "cell_type": "code",
      "metadata": {
        "id": "6O5ZS0sehU_i",
        "colab_type": "code",
        "colab": {}
      },
      "source": [
        "#merging my two dataframes \n",
        "final = pd.merge(df_objects, df_acquired, on='id', how='inner')\n",
        "final.head()"
      ],
      "execution_count": null,
      "outputs": []
    },
    {
      "cell_type": "code",
      "metadata": {
        "id": "ycTTRaul0RGa",
        "colab_type": "code",
        "colab": {}
      },
      "source": [
        "#looking at some of my largest datasets\n",
        "final.nlargest(20,'price_amount')"
      ],
      "execution_count": null,
      "outputs": []
    },
    {
      "cell_type": "code",
      "metadata": {
        "id": "PNvQrpcyjkf2",
        "colab_type": "code",
        "colab": {}
      },
      "source": [
        "#changing my columns to date-time format\n",
        "final['founded_at'] = pd.to_datetime(final['founded_at'], infer_datetime_format=True)\n",
        "final['acquired_at'] = pd.to_datetime(final['acquired_at'], infer_datetime_format=True)"
      ],
      "execution_count": 104,
      "outputs": []
    },
    {
      "cell_type": "code",
      "metadata": {
        "id": "T9Zs6KpqjyLt",
        "colab_type": "code",
        "colab": {}
      },
      "source": [
        "#calculating the difference in years between founded in acquired and then adding a new column\n",
        "final['years_since'] = (final['acquired_at'] - final['founded_at']).dt.days / 365\n",
        "final.head(50)"
      ],
      "execution_count": null,
      "outputs": []
    },
    {
      "cell_type": "code",
      "metadata": {
        "id": "LJL8aLDXmN6A",
        "colab_type": "code",
        "colab": {}
      },
      "source": [
        "#looking at some null value vales\n",
        "final['years_since'].isnull().value_counts()"
      ],
      "execution_count": null,
      "outputs": []
    },
    {
      "cell_type": "code",
      "metadata": {
        "id": "3YUYfS18nqas",
        "colab_type": "code",
        "colab": {}
      },
      "source": [
        "final['years_since'].median()"
      ],
      "execution_count": null,
      "outputs": []
    },
    {
      "cell_type": "code",
      "metadata": {
        "id": "sQKG-oIVqe5i",
        "colab_type": "code",
        "colab": {}
      },
      "source": [
        "final.nlargest(50,'years_since')"
      ],
      "execution_count": null,
      "outputs": []
    },
    {
      "cell_type": "code",
      "metadata": {
        "id": "cmqPm_qVr7eB",
        "colab_type": "code",
        "colab": {}
      },
      "source": [
        "# I wanted to remove some outliars\n",
        "condition_less = final['years_since'] <= 30\n",
        "condition_more = final['years_since'] >= 0"
      ],
      "execution_count": 109,
      "outputs": []
    },
    {
      "cell_type": "code",
      "metadata": {
        "id": "3-6KB9Jw8VGO",
        "colab_type": "code",
        "colab": {}
      },
      "source": [
        "\n",
        "final[condition_less][condition_more].describe()"
      ],
      "execution_count": null,
      "outputs": []
    },
    {
      "cell_type": "code",
      "metadata": {
        "id": "SOUdU_qTn_QC",
        "colab_type": "code",
        "colab": {
          "base_uri": "https://localhost:8080/",
          "height": 589
        },
        "outputId": "4e208858-b2ee-46d6-c058-facd4ff2168f"
      },
      "source": [
        "plt.style.use('fivethirtyeight') \n",
        "\n",
        "final[condition_less][condition_more].hist(column='years_since',bins=100,);\n",
        "plt.suptitle('Founded to Acquisition', fontsize=20,ha='center');\n",
        "plt.title('How long it takes to be acquired after founded',fontsize=11,ha='center');\n",
        "plt.xlabel('Years',fontsize=13, fontweight='bold');\n",
        "plt.ylabel('Number of Companies',fontsize=13, fontweight='bold');"
      ],
      "execution_count": 219,
      "outputs": [
        {
          "output_type": "stream",
          "text": [
            "/usr/local/lib/python3.6/dist-packages/ipykernel_launcher.py:3: UserWarning:\n",
            "\n",
            "Boolean Series key will be reindexed to match DataFrame index.\n",
            "\n"
          ],
          "name": "stderr"
        },
        {
          "output_type": "display_data",
          "data": {
            "image/png": "[encoded data removed]",
            "text/plain": [
              "<Figure size 640x480 with 1 Axes>"
            ]
          },
          "metadata": {
            "tags": []
          }
        }
      ]
    },
    {
      "cell_type": "code",
      "metadata": {
        "id": "PKEcLzLPG6l0",
        "colab_type": "code",
        "colab": {
          "base_uri": "https://localhost:8080/",
          "height": 34
        },
        "outputId": "8caab4b8-13aa-47f4-d6fd-37dac7b642e2"
      },
      "source": [
        "less_than_five = final.loc[(final['years_since']<=5) & (final['years_since']>=0)]\n",
        "\n",
        "less_than_five['price_amount'].mean()"
      ],
      "execution_count": 163,
      "outputs": [
        {
          "output_type": "execute_result",
          "data": {
            "text/plain": [
              "47703146.223967426"
            ]
          },
          "metadata": {
            "tags": []
          },
          "execution_count": 163
        }
      ]
    },
    {
      "cell_type": "code",
      "metadata": {
        "id": "AnXErrc4L_1e",
        "colab_type": "code",
        "colab": {
          "base_uri": "https://localhost:8080/",
          "height": 34
        },
        "outputId": "ab37a0ec-c5c3-4351-f187-44ed4d8ceffb"
      },
      "source": [
        "five_to_ten = final.loc[(final['years_since']>5) & (final['years_since']<=10)]\n",
        "\n",
        "five_to_ten['price_amount'].mean()"
      ],
      "execution_count": 164,
      "outputs": [
        {
          "output_type": "execute_result",
          "data": {
            "text/plain": [
              "84430456.38945234"
            ]
          },
          "metadata": {
            "tags": []
          },
          "execution_count": 164
        }
      ]
    },
    {
      "cell_type": "code",
      "metadata": {
        "id": "1aggjLVDMMyF",
        "colab_type": "code",
        "colab": {
          "base_uri": "https://localhost:8080/",
          "height": 34
        },
        "outputId": "3e9fe35f-370b-43dd-bd10-833603e280ba"
      },
      "source": [
        "ten_to_fifteen = final.loc[(final['years_since']>10) & (final['years_since']<=15)]\n",
        "\n",
        "ten_to_fifteen['price_amount'].mean()"
      ],
      "execution_count": 165,
      "outputs": [
        {
          "output_type": "execute_result",
          "data": {
            "text/plain": [
              "163689618.7123947"
            ]
          },
          "metadata": {
            "tags": []
          },
          "execution_count": 165
        }
      ]
    },
    {
      "cell_type": "code",
      "metadata": {
        "id": "x0Vo38U5T9WT",
        "colab_type": "code",
        "colab": {
          "base_uri": "https://localhost:8080/",
          "height": 34
        },
        "outputId": "c2498066-e147-48d4-e57d-e53bbbaced17"
      },
      "source": [
        "fifteen_to_twenty = final.loc[(final['years_since']>15) & (final['years_since']<=20)]\n",
        "\n",
        "fifteen_to_twenty['price_amount'].mean()"
      ],
      "execution_count": 186,
      "outputs": [
        {
          "output_type": "execute_result",
          "data": {
            "text/plain": [
              "239327786.37770897"
            ]
          },
          "metadata": {
            "tags": []
          },
          "execution_count": 186
        }
      ]
    },
    {
      "cell_type": "code",
      "metadata": {
        "id": "ZJDZINXQUKzM",
        "colab_type": "code",
        "colab": {
          "base_uri": "https://localhost:8080/",
          "height": 34
        },
        "outputId": "457d92b1-6e0f-4918-f43c-7365530b8ac2"
      },
      "source": [
        "twenty_to_twentyfive = final.loc[(final['years_since']>20) & (final['years_since']<=25)]\n",
        "\n",
        "twenty_to_twentyfive['price_amount'].mean()"
      ],
      "execution_count": 187,
      "outputs": [
        {
          "output_type": "execute_result",
          "data": {
            "text/plain": [
              "423721538.46153843"
            ]
          },
          "metadata": {
            "tags": []
          },
          "execution_count": 187
        }
      ]
    },
    {
      "cell_type": "code",
      "metadata": {
        "id": "JMAVnPgPUcNT",
        "colab_type": "code",
        "colab": {
          "base_uri": "https://localhost:8080/",
          "height": 489
        },
        "outputId": "01e33798-3795-4dbc-99ac-56692e695f39"
      },
      "source": [
        "plt.style.use('fivethirtyeight') \n",
        "fig, ax = plt.subplots()\n",
        "\n",
        "\n",
        "ax.set_xlabel(\"Avg. Acquisiton Price\", fontsize=8.5, fontweight='bold')\n",
        "ax.set_ylabel(\"Years since founded when acquired\", fontsize=8.5, fontweight='bold')\n",
        "ax.set_xticklabels(['$0','$50M', '$100M','$150M', '$200M', '$250M','$300M','$350M','$400M'], fontsize=8, color='#8f8f8f') \n",
        "plt.title('Avg Sale Price')\n",
        "\n",
        "\n",
        "avg_price_data = pd.Series([47.4,84.4,163.6,239.3,423.7])\n",
        "\n",
        "avg_price_data.plot.barh();\n",
        "ax.set_yticklabels(['0-5','5-10','10-15','15-20','20-25'],fontsize=8, color='#8f8f8f');"
      ],
      "execution_count": 214,
      "outputs": [
        {
          "output_type": "display_data",
          "data": {
            "image/png": "[encoded data removed]",
            "text/plain": [
              "<Figure size 640x480 with 1 Axes>"
            ]
          },
          "metadata": {
            "tags": []
          }
        }
      ]
    }
  ]
}